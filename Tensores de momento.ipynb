{
 "cells": [
  {
   "cell_type": "markdown",
   "id": "05a934d2",
   "metadata": {},
   "source": [
    "# Extraer planos nodales de sismos usando el \"product type\" de tensores de momento en la página del NEIC\n",
    "---"
   ]
  },
  {
   "cell_type": "markdown",
   "id": "9f950b2c",
   "metadata": {},
   "source": [
    "## Dependencias del código"
   ]
  },
  {
   "cell_type": "code",
   "execution_count": null,
   "id": "d3eed05a",
   "metadata": {},
   "outputs": [],
   "source": [
    "from datetime import datetime\n",
    "from libcomcat.search import search, get_event_by_id\n",
    "from libcomcat.dataframes import get_summary_data_frame\n",
    "import pandas as pd"
   ]
  },
  {
   "cell_type": "markdown",
   "id": "ebc3eafa",
   "metadata": {},
   "source": [
    "## Parámetros de búsqueda (fecha, latitud, longitud y magnitud)"
   ]
  },
  {
   "cell_type": "code",
   "execution_count": null,
   "id": "5eec394e",
   "metadata": {},
   "outputs": [],
   "source": [
    "starttime = datetime(2001, 9, 17, 0, 0, 0) #yyyy, mm, dd,hh, mm, ss\n",
    "endtime = datetime(2001, 9, 17, 0, 0, 0)\n",
    "\n",
    "min_latitude = 4.675\n",
    "max_latitude = 12.147\n",
    "min_longitude = -88.982\n",
    "max_longitude = -81.101\n",
    "min_mag = 5\n",
    "max_mag = 8\n",
    "\n",
    "events = search(starttime=starttime, endtime=endtime,\n",
    "                maxlatitude=max_latitude, minlatitude=min_latitude,\n",
    "                maxlongitude=max_longitude, minlongitude=min_longitude,\n",
    "                minmagnitude=min_mag, maxmagnitude=max_mag,\n",
    "                producttype='moment-tensor')\n",
    "\n",
    "event_data = []\n",
    "\n",
    "for event in events:\n",
    "    try:\n",
    "        event_details = get_event_by_id(event.id)\n",
    "\n",
    "        moment_tensor_products = event_details.getProducts('moment-tensor')\n",
    "        \n",
    "        if moment_tensor_products:\n",
    "            moment_tensor_product = moment_tensor_products[0]\n",
    "\n",
    "            strike1 = moment_tensor_product['nodal-plane-1-strike']\n",
    "            dip1 = moment_tensor_product['nodal-plane-1-dip']\n",
    "            rake1 = moment_tensor_product['nodal-plane-1-rake']\n",
    "\n",
    "            strike2 = moment_tensor_product['nodal-plane-2-strike']\n",
    "            dip2 = moment_tensor_product['nodal-plane-2-dip']\n",
    "            rake2 = moment_tensor_product['nodal-plane-2-rake']\n",
    "            \n",
    "            event_info = {\n",
    "                'id': event.id,\n",
    "                'time': event.time,\n",
    "                'latitude': event.latitude,\n",
    "                'longitude': event.longitude,\n",
    "                'depth': event.depth,\n",
    "                'magnitude': event.magnitude,\n",
    "                'strike_1': strike1,\n",
    "                'dip_1': dip1,\n",
    "                'rake_1': rake1,\n",
    "                'strike_2': strike2,\n",
    "                'dip_2': dip2,\n",
    "                'rake_2': rake2\n",
    "                }\n",
    "\n",
    "            event_data.append(event_info)\n",
    "        else:\n",
    "            print(f\"Evento {event.id} no tiene un producto de tipo moment-tensor\")\n",
    "\n",
    "    except Exception as e:\n",
    "        print(f\"Error al procesar evento {event.id}: {str(e)}\")"
   ]
  },
  {
   "cell_type": "markdown",
   "id": "1454e87a",
   "metadata": {},
   "source": [
    "## Ver lista de eventos procesados"
   ]
  },
  {
   "cell_type": "code",
   "execution_count": null,
   "id": "69249f61",
   "metadata": {},
   "outputs": [],
   "source": [
    "print(\"Lista de eventos:\")\n",
    "for event in event_data:\n",
    "    print(event)"
   ]
  },
  {
   "cell_type": "markdown",
   "id": "22cacbfa",
   "metadata": {},
   "source": [
    "## Guardar la lista de eventos en un .csv"
   ]
  },
  {
   "cell_type": "code",
   "execution_count": null,
   "id": "465bd969",
   "metadata": {},
   "outputs": [],
   "source": [
    "events_df = pd.DataFrame(event_data)\n",
    "\n",
    "# Acá se puede cambiar el nombre del archivo, este se guarda en la misma carpeta en la que se encuentra este notebook\n",
    "\n",
    "csv_file = 'sismos_tensores_de_momento.csv'\n",
    "events_df.to_csv(csv_file, index=False)\n",
    "\n",
    "print(f\"Datos guardados exitosamente en '{csv_file}'\")"
   ]
  }
 ],
 "metadata": {
  "kernelspec": {
   "display_name": "Python 3 (ipykernel)",
   "language": "python",
   "name": "python3"
  },
  "language_info": {
   "codemirror_mode": {
    "name": "ipython",
    "version": 3
   },
   "file_extension": ".py",
   "mimetype": "text/x-python",
   "name": "python",
   "nbconvert_exporter": "python",
   "pygments_lexer": "ipython3",
   "version": "3.9.16"
  }
 },
 "nbformat": 4,
 "nbformat_minor": 5
}
