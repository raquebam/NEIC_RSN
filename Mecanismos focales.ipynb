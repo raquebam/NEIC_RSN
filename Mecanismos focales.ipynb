{
 "cells": [
  {
   "cell_type": "markdown",
   "id": "04df30d5",
   "metadata": {},
   "source": [
    "# Extraer planos nodales de sismos usando el \"product type\" de mecanismos focales en la página del NEIC\n",
    "---"
   ]
  },
  {
   "cell_type": "markdown",
   "id": "1d35237f",
   "metadata": {},
   "source": [
    "## Dependencias del código "
   ]
  },
  {
   "cell_type": "code",
   "execution_count": null,
   "id": "2ba17535",
   "metadata": {},
   "outputs": [],
   "source": [
    "from datetime import datetime\n",
    "from libcomcat.search import search, get_event_by_id\n",
    "from libcomcat.dataframes import get_summary_data_frame\n",
    "import pandas as pd"
   ]
  },
  {
   "cell_type": "markdown",
   "id": "15726c51",
   "metadata": {},
   "source": [
    "## Parámetros de búsqueda (fecha, latitud, longitud y magnitud)"
   ]
  },
  {
   "cell_type": "code",
   "execution_count": null,
   "id": "bcffc8af",
   "metadata": {},
   "outputs": [],
   "source": [
    "starttime = datetime(2001, 9, 17, 0, 0, 0) #yyyy, mm, dd,hh, mm, ss\n",
    "endtime = datetime(2001, 9, 17, 0, 0, 0)\n",
    "\n",
    "min_latitude = 4.675\n",
    "max_latitude = 12.147\n",
    "min_longitude = -88.982\n",
    "max_longitude = -81.101\n",
    "min_mag = 5\n",
    "max_mag = 8\n",
    "\n",
    "events = search(starttime=starttime, endtime=endtime,\n",
    "                maxlatitude=max_latitude, minlatitude=min_latitude,\n",
    "                maxlongitude=max_longitude, minlongitude=min_longitude,\n",
    "                minmagnitude=min_mag, maxmagnitude=max_mag,\n",
    "                producttype='focal-mechanism')\n",
    "\n",
    "event_data = []\n",
    "\n",
    "for event in events:\n",
    "    try:\n",
    "        event_details = get_event_by_id(event.id)\n",
    "\n",
    "        focal_mechanism_products = event_details.getProducts('focal-mechanism')\n",
    "        \n",
    "        if focal_mechanism_products:\n",
    "            focal_mechanism_product = focal_mechanism_products[0]\n",
    "\n",
    "            strike1 = focal_mechanism_product['nodal-plane-1-strike']\n",
    "            dip1 = focal_mechanism_product['nodal-plane-1-dip']\n",
    "            rake1 = focal_mechanism_product['nodal-plane-1-rake']\n",
    "\n",
    "            strike2 = focal_mechanism_product['nodal-plane-2-strike']\n",
    "            dip2 = focal_mechanism_product['nodal-plane-2-dip']\n",
    "            rake2 = focal_mechanism_product['nodal-plane-2-rake']\n",
    "            \n",
    "            event_info = {\n",
    "                'id': event.id,\n",
    "                'time': event.time,\n",
    "                'latitude': event.latitude,\n",
    "                'longitude': event.longitude,\n",
    "                'depth': event.depth,\n",
    "                'magnitude': event.magnitude,\n",
    "                'strike_1': strike1,\n",
    "                'dip_1': dip1,\n",
    "                'rake_1': rake1,\n",
    "                'strike_2': strike2,\n",
    "                'dip_2': dip2,\n",
    "                'rake_2': rake2\n",
    "            }\n",
    "\n",
    "            event_data.append(event_info)\n",
    "        else:\n",
    "            print(f\"Evento {event.id} no tiene un producto de tipo focal-mechanism\")\n",
    "\n",
    "    except Exception as e:\n",
    "        print(f\"Error al procesar evento {event.id}: {str(e)}\")"
   ]
  },
  {
   "cell_type": "markdown",
   "id": "286a6a00",
   "metadata": {},
   "source": [
    "## Ver lista de eventos procesados"
   ]
  },
  {
   "cell_type": "code",
   "execution_count": null,
   "id": "4355bafd",
   "metadata": {},
   "outputs": [],
   "source": [
    "print(\"Lista de eventos:\")\n",
    "for event in event_data:\n",
    "    print(event)"
   ]
  },
  {
   "cell_type": "markdown",
   "id": "bdadbd1d",
   "metadata": {},
   "source": [
    "## Guardar la lista de eventos en un .csv"
   ]
  },
  {
   "cell_type": "code",
   "execution_count": null,
   "id": "1512cb79",
   "metadata": {},
   "outputs": [],
   "source": [
    "events_df = pd.DataFrame(event_data)\n",
    "\n",
    "# Acá se puede cambiar el nombre del archivo, este se guarda en la misma carpeta en la que se encuentra este notebook\n",
    "\n",
    "csv_file = 'sismos_mecanismos_focales.csv' \n",
    "events_df.to_csv(csv_file, index=False)\n",
    "\n",
    "print(f\"Datos guardados en '{csv_file}'\")"
   ]
  }
 ],
 "metadata": {
  "kernelspec": {
   "display_name": "Python 3 (ipykernel)",
   "language": "python",
   "name": "python3"
  },
  "language_info": {
   "codemirror_mode": {
    "name": "ipython",
    "version": 3
   },
   "file_extension": ".py",
   "mimetype": "text/x-python",
   "name": "python",
   "nbconvert_exporter": "python",
   "pygments_lexer": "ipython3",
   "version": "3.9.16"
  }
 },
 "nbformat": 4,
 "nbformat_minor": 5
}
